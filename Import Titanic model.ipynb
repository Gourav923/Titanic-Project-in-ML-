{
 "cells": [
  {
   "cell_type": "code",
   "execution_count": 1,
   "id": "03017251",
   "metadata": {},
   "outputs": [],
   "source": [
    "import joblib"
   ]
  },
  {
   "cell_type": "code",
   "execution_count": 2,
   "id": "70914459",
   "metadata": {},
   "outputs": [],
   "source": [
    "titanic= joblib.load('m_joblib')"
   ]
  },
  {
   "cell_type": "code",
   "execution_count": 6,
   "id": "b77ed1ac",
   "metadata": {},
   "outputs": [
    {
     "name": "stderr",
     "output_type": "stream",
     "text": [
      "C:\\ProgramData\\anaconda3\\Lib\\site-packages\\sklearn\\base.py:464: UserWarning: X does not have valid feature names, but DecisionTreeClassifier was fitted with feature names\n",
      "  warnings.warn(\n"
     ]
    },
    {
     "data": {
      "text/plain": [
       "array([1], dtype=int64)"
      ]
     },
     "execution_count": 6,
     "metadata": {},
     "output_type": "execute_result"
    }
   ],
   "source": [
    "titanic.predict([[1,1,1,1]])"
   ]
  },
  {
   "cell_type": "markdown",
   "id": "b1519be3",
   "metadata": {},
   "source": [
    "##### Model is imported and worked properly"
   ]
  },
  {
   "cell_type": "code",
   "execution_count": null,
   "id": "ac311705",
   "metadata": {},
   "outputs": [],
   "source": []
  }
 ],
 "metadata": {
  "kernelspec": {
   "display_name": "Python 3 (ipykernel)",
   "language": "python",
   "name": "python3"
  },
  "language_info": {
   "codemirror_mode": {
    "name": "ipython",
    "version": 3
   },
   "file_extension": ".py",
   "mimetype": "text/x-python",
   "name": "python",
   "nbconvert_exporter": "python",
   "pygments_lexer": "ipython3",
   "version": "3.11.4"
  }
 },
 "nbformat": 4,
 "nbformat_minor": 5
}
